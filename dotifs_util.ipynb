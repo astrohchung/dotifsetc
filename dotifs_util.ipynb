{
 "cells": [
  {
   "cell_type": "code",
   "execution_count": 1,
   "metadata": {
    "ExecuteTime": {
     "end_time": "2020-12-05T09:13:32.999799Z",
     "start_time": "2020-12-05T09:13:32.168157Z"
    }
   },
   "outputs": [
    {
     "name": "stdout",
     "output_type": "stream",
     "text": [
      "[NbConvertApp] Converting notebook dotifs_util.ipynb to python\n",
      "[NbConvertApp] Writing 1740 bytes to dotifs_util.py\n"
     ]
    }
   ],
   "source": [
    "# !jupyter nbconvert --to python dotifs_util.ipynb"
   ]
  },
  {
   "cell_type": "code",
   "execution_count": 2,
   "metadata": {},
   "outputs": [],
   "source": [
    "import numpy as np\n",
    "from scipy import constants\n",
    "import scipy.interpolate\n",
    "import math\n",
    "#np.set_printoptions(threshold=np.inf)\n",
    "np.set_printoptions(threshold=1000)"
   ]
  },
  {
   "cell_type": "code",
   "execution_count": 11,
   "metadata": {},
   "outputs": [],
   "source": [
    "def mag2flux(mag, zero_pt=21.1, ABwave=None):\n",
    "    if np.any(ABwave != None):\n",
    "         return 10.**(-0.4*(mag+2.406+5*np.log10(ABwave)))\n",
    "    return 10.**(-0.4*(mag+zero_pt))"
   ]
  },
  {
   "cell_type": "code",
   "execution_count": null,
   "metadata": {},
   "outputs": [],
   "source": [
    "def flux2mag(flux, zero_pt=21.1, ABwave=None):\n",
    "    if np.any(ABwave != None):\n",
    "        return np.log10(flux)/(-0.4)-2.406-5*np.log10(ABwave)\n",
    "    return np.log10(flux)/(-0.4)-zero_pt"
   ]
  },
  {
   "cell_type": "code",
   "execution_count": 4,
   "metadata": {},
   "outputs": [],
   "source": [
    "def planck(wave, temp):\n",
    "    w=wave/1e8\n",
    "    c1 =  3.7417749e-5  #=2*!DPI*h*c*c   \n",
    "    c2 = 1.4387687    # =h*c/k\n",
    "    val=c2/w/temp\n",
    "    bbflux=c1/(w**5 * (math.e**val-1))*1e-8\n",
    "    return bbflux"
   ]
  },
  {
   "cell_type": "code",
   "execution_count": 5,
   "metadata": {},
   "outputs": [],
   "source": [
    "def flux2bpmag(flam, wave, filtertrans_input, filterwave=None,\n",
    "               errflag=None, flam_err=None, bpmag_err=None, itpkind='linear'):\n",
    "\n",
    "    mintrans=0.00011\n",
    "    filtertrans=np.copy(filtertrans_input)\n",
    "    if filterwave != None:\n",
    "        itpfunc=scipy.interpolate.interp1d(filterwave, filtertrans, kind=itpkind)\n",
    "        filtertrans=itpfunc(wave)\n",
    "        \n",
    "    filtertrans=(filtertrans >= mintrans)*filtertrans\n",
    "    \n",
    "    nwave=len(wave)\n",
    "\n",
    "    if len(filtertrans) != nwave:\n",
    "        errflag=1\n",
    "        return\n",
    "    \n",
    "    constc=constants.c\n",
    "\n",
    "\n",
    "    flux=np.sum(flam*filtertrans)\n",
    "\n",
    "    \n",
    "    refflam=np.ones(nwave)*3631e-23/(wave**2.)*constc*1e10\n",
    "    refflux=np.sum(refflam*filtertrans)\n",
    "\n",
    "    if flam_err != None:\n",
    "        err=(np.sum((flam_err*filtertrans)**2))**0.5\n",
    "        bpmag_err=-2.5/np.log(10)/flux*err\n",
    "\n",
    "    bpmag=-2.5*np.log10(flux/refflux)\n",
    "    return bpmag"
   ]
  },
  {
   "cell_type": "code",
   "execution_count": null,
   "metadata": {},
   "outputs": [],
   "source": []
  }
 ],
 "metadata": {
  "kernelspec": {
   "display_name": "Python 3",
   "language": "python",
   "name": "python3"
  },
  "language_info": {
   "codemirror_mode": {
    "name": "ipython",
    "version": 3
   },
   "file_extension": ".py",
   "mimetype": "text/x-python",
   "name": "python",
   "nbconvert_exporter": "python",
   "pygments_lexer": "ipython3",
   "version": "3.7.4"
  },
  "varInspector": {
   "cols": {
    "lenName": 16,
    "lenType": 16,
    "lenVar": 40
   },
   "kernels_config": {
    "python": {
     "delete_cmd_postfix": "",
     "delete_cmd_prefix": "del ",
     "library": "var_list.py",
     "varRefreshCmd": "print(var_dic_list())"
    },
    "r": {
     "delete_cmd_postfix": ") ",
     "delete_cmd_prefix": "rm(",
     "library": "var_list.r",
     "varRefreshCmd": "cat(var_dic_list()) "
    }
   },
   "types_to_exclude": [
    "module",
    "function",
    "builtin_function_or_method",
    "instance",
    "_Feature"
   ],
   "window_display": false
  }
 },
 "nbformat": 4,
 "nbformat_minor": 2
}
